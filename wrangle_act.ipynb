{
 "cells": [
  {
   "cell_type": "code",
   "execution_count": 5,
   "metadata": {},
   "outputs": [],
   "source": [
    "import pandas as pd\n",
    "import numpy as np\n",
    "import requests \n",
    "import os\n",
    "import json\n",
    "import tweepy\n",
    "import matplotlib.pyplot as plt\n",
    "import re\n",
    "from timeit import default_timer as timer\n",
    "from PIL import Image\n",
    "from io import BytesIO\n",
    "%matplotlib inline"
   ]
  },
  {
   "cell_type": "markdown",
   "metadata": {},
   "source": [
    "# Gathering Data\n",
    "\n",
    "- Importing the provided dataset, WeRateDogs Twitter archive "
   ]
  },
  {
   "cell_type": "code",
   "execution_count": 6,
   "metadata": {},
   "outputs": [],
   "source": [
    "df1 = pd.read_csv('twitter-archive-enhanced.csv')"
   ]
  },
  {
   "cell_type": "markdown",
   "metadata": {},
   "source": [
    "- Downloading the image predictions file and saving it"
   ]
  },
  {
   "cell_type": "code",
   "execution_count": 7,
   "metadata": {},
   "outputs": [],
   "source": [
    "url = 'https://d17h27t6h515a5.cloudfront.net/topher/2017/August/599fd2ad_image-predictions/image-predictions.tsv'\n",
    "response = requests.get(url)\n",
    "with open(os.path.join(os.getcwd(),url.split('/')[-1]), mode='wb') as file:\n",
    "    file.write(response.content)"
   ]
  },
  {
   "cell_type": "code",
   "execution_count": 8,
   "metadata": {},
   "outputs": [],
   "source": [
    "image_preds = pd.read_csv('image-predictions.tsv',sep = '\\t')"
   ]
  },
  {
   "cell_type": "markdown",
   "metadata": {},
   "source": [
    "- Quering Twitter API to gather more data using the tweets' IDs from the given dataset"
   ]
  },
  {
   "cell_type": "markdown",
   "metadata": {},
   "source": [
    "Authentication "
   ]
  },
  {
   "cell_type": "code",
   "execution_count": 9,
   "metadata": {},
   "outputs": [],
   "source": [
    "api_key = 'bEvYcqpcl2ECziqw4U3W1N0jp'\n",
    "api_secret = 'alDpEo1pBVIhzg3GiGywVtdeum92CvnEyJStAxSKv517JtKSpQ'\n",
    "access_token = '1309464445102497792-DMKXVn3hTLJIibT82viDnkENIcRbHH'\n",
    "access_token_secret = 'DtlGO4vdtF0nPSmsbo1hvbuGntMJisnMoxx6nyZyuw88G'\n",
    "\n",
    "auth = tweepy.OAuthHandler(api_key, api_secret)\n",
    "auth.set_access_token(access_token, access_token_secret)\n",
    "api = tweepy.API(auth, wait_on_rate_limit=True, wait_on_rate_limit_notify=True,parser=tweepy.parsers.JSONParser())"
   ]
  },
  {
   "cell_type": "code",
   "execution_count": null,
   "metadata": {},
   "outputs": [
    {
     "name": "stdout",
     "output_type": "stream",
     "text": [
      "1:892420643555336193\n",
      "success\n",
      "2:892177421306343426\n",
      "success\n",
      "3:891815181378084864\n",
      "success\n",
      "4:891689557279858688\n",
      "success\n",
      "5:891327558926688256\n",
      "success\n",
      "6:891087950875897856\n",
      "success\n",
      "7:890971913173991426\n",
      "success\n",
      "8:890729181411237888\n",
      "success\n",
      "9:890609185150312448\n",
      "success\n",
      "10:890240255349198849\n",
      "success\n",
      "11:890006608113172480\n",
      "success\n",
      "12:889880896479866881\n",
      "success\n",
      "13:889665388333682689\n",
      "success\n",
      "14:889638837579907072\n",
      "success\n",
      "15:889531135344209921\n",
      "success\n",
      "16:889278841981685760\n",
      "success\n",
      "17:888917238123831296\n",
      "success\n",
      "18:888804989199671297\n",
      "success\n",
      "19:888554962724278272\n",
      "success\n",
      "20:888202515573088257\n",
      "failed\n",
      "21:888078434458587136\n",
      "success\n",
      "22:887705289381826560\n",
      "success\n",
      "23:887517139158093824\n",
      "success\n",
      "24:887473957103951883\n",
      "success\n",
      "25:887343217045368832\n",
      "success\n",
      "26:887101392804085760\n",
      "success\n",
      "27:886983233522544640\n",
      "success\n",
      "28:886736880519319552\n",
      "success\n",
      "29:886680336477933568\n",
      "success\n",
      "30:886366144734445568\n",
      "success\n",
      "31:886267009285017600\n",
      "success\n",
      "32:886258384151887873\n",
      "success\n",
      "33:886054160059072513\n",
      "success\n",
      "34:885984800019947520\n",
      "success\n",
      "35:885528943205470208\n",
      "success\n",
      "36:885518971528720385\n",
      "success\n",
      "37:885311592912609280\n",
      "success\n",
      "38:885167619883638784\n",
      "success\n",
      "39:884925521741709313\n",
      "success\n",
      "40:884876753390489601\n",
      "success\n",
      "41:884562892145688576\n",
      "success\n",
      "42:884441805382717440\n",
      "success\n",
      "43:884247878851493888\n",
      "success\n",
      "44:884162670584377345\n",
      "success\n",
      "45:883838122936631299\n",
      "success\n",
      "46:883482846933004288\n",
      "success\n",
      "47:883360690899218434\n",
      "success\n",
      "48:883117836046086144\n",
      "success\n",
      "49:882992080364220416\n",
      "success\n",
      "50:882762694511734784\n",
      "success\n",
      "51:882627270321602560\n",
      "success\n",
      "52:882268110199369728\n",
      "success\n",
      "53:882045870035918850\n",
      "success\n",
      "54:881906580714921986\n",
      "success\n",
      "55:881666595344535552\n",
      "success\n",
      "56:881633300179243008\n",
      "success\n",
      "57:881536004380872706\n",
      "success\n",
      "58:881268444196462592\n",
      "success\n",
      "59:880935762899988482\n",
      "success\n",
      "60:880872448815771648\n",
      "success\n",
      "61:880465832366813184\n",
      "success\n",
      "62:880221127280381952\n",
      "success\n",
      "63:880095782870896641\n",
      "success\n",
      "64:879862464715927552\n",
      "success\n",
      "65:879674319642796034\n",
      "success\n",
      "66:879492040517615616\n",
      "success\n",
      "67:879415818425184262\n",
      "success\n",
      "68:879376492567855104\n",
      "success\n",
      "69:879130579576475649\n",
      "success\n",
      "70:879050749262655488\n",
      "success\n",
      "71:879008229531029506\n",
      "success\n",
      "72:878776093423087618\n",
      "success\n",
      "73:878604707211726852\n",
      "success\n",
      "74:878404777348136964\n",
      "success\n",
      "75:878316110768087041\n",
      "success\n",
      "76:878281511006478336\n",
      "success\n",
      "77:878057613040115712\n",
      "success\n",
      "78:877736472329191424\n",
      "success\n",
      "79:877611172832227328\n",
      "success\n",
      "80:877556246731214848\n",
      "success\n",
      "81:877316821321428993\n",
      "success\n",
      "82:877201837425926144\n",
      "success\n",
      "83:876838120628539392\n",
      "success\n",
      "84:876537666061221889\n",
      "success\n",
      "85:876484053909872640\n",
      "success\n",
      "86:876120275196170240\n",
      "success\n",
      "87:875747767867523072\n",
      "success\n",
      "88:875144289856114688\n",
      "success\n",
      "89:875097192612077568\n",
      "success\n",
      "90:875021211251597312\n",
      "success\n",
      "91:874680097055178752\n",
      "success\n",
      "92:874434818259525634\n",
      "success\n",
      "93:874296783580663808\n",
      "success\n",
      "94:874057562936811520\n",
      "success\n",
      "95:874012996292530176\n",
      "success\n",
      "96:873697596434513921\n",
      "failed\n",
      "97:873580283840344065\n",
      "success\n",
      "98:873337748698140672\n",
      "success\n",
      "99:873213775632977920\n",
      "success\n",
      "100:872967104147763200\n",
      "success\n",
      "101:872820683541237760\n",
      "success\n",
      "102:872668790621863937\n",
      "failed\n",
      "103:872620804844003328\n",
      "success\n",
      "104:872486979161796608\n",
      "success\n",
      "105:872261713294495745\n",
      "failed\n",
      "106:872122724285648897\n",
      "success\n",
      "107:871879754684805121\n",
      "success\n",
      "108:871762521631449091\n",
      "success\n",
      "109:871515927908634625\n",
      "success\n",
      "110:871166179821445120\n",
      "success\n",
      "111:871102520638267392\n",
      "success\n",
      "112:871032628920680449\n",
      "success\n",
      "113:870804317367881728\n",
      "success\n",
      "114:870726314365509632\n",
      "success\n",
      "115:870656317836468226\n",
      "success\n",
      "116:870374049280663552\n",
      "success\n",
      "117:870308999962521604\n",
      "success\n",
      "118:870063196459192321\n",
      "success\n",
      "119:869988702071779329\n",
      "failed\n",
      "120:869772420881756160\n",
      "success\n",
      "121:869702957897576449\n",
      "success\n",
      "122:869596645499047938\n",
      "success\n",
      "123:869227993411051520\n",
      "success\n",
      "124:868880397819494401\n",
      "success\n",
      "125:868639477480148993\n",
      "success\n",
      "126:868622495443632128\n",
      "success\n",
      "127:868552278524837888\n",
      "success\n",
      "128:867900495410671616\n",
      "success\n",
      "129:867774946302451713\n",
      "success\n",
      "130:867421006826221569\n",
      "success\n",
      "131:867072653475098625\n",
      "success\n",
      "132:867051520902168576\n",
      "success\n",
      "133:866816280283807744\n",
      "failed\n",
      "134:866720684873056260\n",
      "success\n",
      "135:866686824827068416\n",
      "success\n",
      "136:866450705531457537\n",
      "success\n",
      "137:866334964761202691\n",
      "success\n",
      "138:866094527597207552\n",
      "success\n",
      "139:865718153858494464\n",
      "success\n",
      "140:865359393868664832\n",
      "success\n",
      "141:865006731092295680\n",
      "success\n",
      "142:864873206498414592\n",
      "success\n",
      "143:864279568663928832\n",
      "success\n",
      "144:864197398364647424\n",
      "success\n",
      "145:863907417377173506\n",
      "success\n",
      "146:863553081350529029\n",
      "success\n",
      "147:863471782782697472\n",
      "success\n",
      "148:863432100342583297\n",
      "success\n",
      "149:863427515083354112\n",
      "success\n",
      "150:863079547188785154\n",
      "success\n",
      "151:863062471531167744\n",
      "success\n",
      "152:862831371563274240\n",
      "success\n",
      "153:862722525377298433\n",
      "success\n",
      "154:862457590147678208\n",
      "success\n",
      "155:862096992088072192\n",
      "success\n",
      "156:861769973181624320\n",
      "failed\n",
      "157:861383897657036800\n",
      "success\n",
      "158:861288531465048066\n",
      "success\n",
      "159:861005113778896900\n",
      "success\n",
      "160:860981674716409858\n",
      "success\n",
      "161:860924035999428608\n",
      "success\n",
      "162:860563773140209665\n",
      "success\n",
      "163:860524505164394496\n",
      "success\n",
      "164:860276583193509888\n",
      "success\n",
      "165:860184849394610176\n",
      "success\n",
      "166:860177593139703809\n",
      "success\n",
      "167:859924526012018688\n",
      "success\n",
      "168:859851578198683649\n",
      "success\n",
      "169:859607811541651456\n",
      "success\n",
      "170:859196978902773760\n",
      "success\n",
      "171:859074603037188101\n",
      "success\n",
      "172:858860390427611136\n",
      "success\n",
      "173:858843525470990336\n",
      "success\n",
      "174:858471635011153920\n",
      "success\n",
      "175:858107933456039936\n",
      "success\n",
      "176:857989990357356544\n",
      "success\n",
      "177:857746408056729600\n",
      "success\n",
      "178:857393404942143489\n",
      "success\n",
      "179:857263160327368704\n",
      "success\n",
      "180:857214891891077121\n",
      "success\n",
      "181:857062103051644929\n",
      "success\n",
      "182:857029823797047296\n",
      "success\n",
      "183:856602993587888130\n",
      "failed\n",
      "184:856543823941562368\n",
      "success\n",
      "185:856526610513747968\n",
      "success\n",
      "186:856330835276025856\n",
      "success\n",
      "187:856288084350160898\n",
      "success\n",
      "188:856282028240666624\n",
      "success\n",
      "189:855862651834028034\n",
      "success\n",
      "190:855860136149123072\n",
      "success\n",
      "191:855857698524602368\n",
      "success\n",
      "192:855851453814013952\n",
      "success\n",
      "193:855818117272018944\n",
      "success\n",
      "194:855459453768019968\n",
      "success\n",
      "195:855245323840757760\n",
      "success\n",
      "196:855138241867124737\n",
      "success\n",
      "197:854732716440526848\n",
      "success\n",
      "198:854482394044301312\n",
      "success\n",
      "199:854365224396361728\n",
      "success\n",
      "200:854120357044912130\n",
      "success\n",
      "201:854010172552949760\n",
      "success\n",
      "202:853760880890318849\n",
      "success\n",
      "203:853639147608842240\n",
      "success\n",
      "204:853299958564483072\n",
      "success\n",
      "205:852936405516943360\n",
      "success\n",
      "206:852912242202992640\n",
      "success\n",
      "207:852672615818899456\n",
      "success\n",
      "208:852553447878664193\n",
      "success\n",
      "209:852311364735569921\n",
      "success\n",
      "210:852226086759018497\n",
      "success\n",
      "211:852189679701164033\n",
      "success\n",
      "212:851953902622658560\n",
      "failed\n",
      "213:851861385021730816\n",
      "success\n",
      "214:851591660324737024\n",
      "success\n",
      "215:851464819735769094\n",
      "success\n",
      "216:851224888060895234\n",
      "success\n",
      "217:850753642995093505\n",
      "success\n",
      "218:850380195714523136\n",
      "success\n",
      "219:850333567704068097\n",
      "success\n",
      "220:850145622816686080\n",
      "success\n",
      "221:850019790995546112\n",
      "success\n",
      "222:849776966551130114\n",
      "success\n",
      "223:849668094696017920\n",
      "success\n",
      "224:849412302885593088\n",
      "success\n",
      "225:849336543269576704\n",
      "success\n",
      "226:849051919805034497\n",
      "success\n",
      "227:848690551926992896\n",
      "success\n",
      "228:848324959059550208\n",
      "success\n",
      "229:848213670039564288\n",
      "success\n",
      "230:848212111729840128\n",
      "success\n",
      "231:847978865427394560\n",
      "success\n",
      "232:847971574464610304\n",
      "success\n",
      "233:847962785489326080\n",
      "success\n",
      "234:847842811428974592\n",
      "success\n",
      "235:847617282490613760\n",
      "success\n",
      "236:847606175596138505\n",
      "success\n",
      "237:847251039262605312\n",
      "success\n",
      "238:847157206088847362\n",
      "success\n",
      "239:847116187444137987\n"
     ]
    }
   ],
   "source": [
    "tweets_ids = df1.tweet_id.values\n",
    "count = 0\n",
    "fail_dict = {}\n",
    "start = timer()\n",
    "with open('tweets.json','w') as output:\n",
    "    for tweet_id in tweets_ids:\n",
    "        count += 1\n",
    "        print(str(count) + ':' + str(tweet_id))\n",
    "        try:\n",
    "            tweet = api.get_status(tweet_id, tweet_mode = 'extended')\n",
    "            print('success')\n",
    "            json.dump(tweet,output)\n",
    "            output.write('\\n')\n",
    "        except tweepy.TweepError as e:\n",
    "            print('failed')\n",
    "            fail_dict[tweet_id] = e\n",
    "            pass\n",
    "end = timer()\n",
    "print(start - end)\n",
    "print(fail_dict)"
   ]
  },
  {
   "cell_type": "markdown",
   "metadata": {},
   "source": [
    "- I found out that it's more efficient to save the data I downloaded from Twitter archive in JSON format, as it'll take fewer codes to load it into a panda dataframe"
   ]
  },
  {
   "cell_type": "code",
   "execution_count": null,
   "metadata": {},
   "outputs": [],
   "source": [
    "df2 = pd.read_json('tweets.json', lines=True)"
   ]
  },
  {
   "cell_type": "markdown",
   "metadata": {},
   "source": [
    "# Assesing Data"
   ]
  },
  {
   "cell_type": "code",
   "execution_count": null,
   "metadata": {},
   "outputs": [],
   "source": [
    "df1.info()"
   ]
  },
  {
   "cell_type": "code",
   "execution_count": null,
   "metadata": {},
   "outputs": [],
   "source": [
    "df1.sample(25)"
   ]
  },
  {
   "cell_type": "code",
   "execution_count": null,
   "metadata": {},
   "outputs": [],
   "source": [
    "df1['name'].value_counts()"
   ]
  },
  {
   "cell_type": "code",
   "execution_count": null,
   "metadata": {},
   "outputs": [],
   "source": [
    "df1.duplicated().sum()"
   ]
  },
  {
   "cell_type": "code",
   "execution_count": null,
   "metadata": {},
   "outputs": [],
   "source": [
    "df1['rating_denominator'].value_counts()"
   ]
  },
  {
   "cell_type": "code",
   "execution_count": null,
   "metadata": {},
   "outputs": [],
   "source": [
    "df1.isnull().sum()"
   ]
  },
  {
   "cell_type": "code",
   "execution_count": null,
   "metadata": {},
   "outputs": [],
   "source": [
    "df1.rating_numerator.value_counts()"
   ]
  },
  {
   "cell_type": "code",
   "execution_count": null,
   "metadata": {},
   "outputs": [],
   "source": [
    "df1[df1['rating_numerator'] == 0]"
   ]
  },
  {
   "cell_type": "code",
   "execution_count": null,
   "metadata": {},
   "outputs": [],
   "source": [
    "df2.info()"
   ]
  },
  {
   "cell_type": "code",
   "execution_count": null,
   "metadata": {},
   "outputs": [],
   "source": [
    "image_preds.info()"
   ]
  },
  {
   "cell_type": "code",
   "execution_count": null,
   "metadata": {},
   "outputs": [],
   "source": [
    "image_preds.sample(25)"
   ]
  },
  {
   "cell_type": "code",
   "execution_count": null,
   "metadata": {},
   "outputs": [],
   "source": [
    "image_preds.iloc[1640]"
   ]
  },
  {
   "cell_type": "markdown",
   "metadata": {},
   "source": [
    "# Quality Issues for \n",
    "## DataFrame 1 (given dataset)\n",
    "- Some of the tweets are retweets\n",
    "- Some tweets are replies to another tweets\n",
    "- Some tweets no longer exist\n",
    "- Some values of numerators are way high like (420,666,1970,...)\n",
    "- Some values of denominators are more than 10\n",
    "- Some tweets' URLs are missing\n",
    "- Some columns are not needed like ('retweeted_timestamp', 'source')\n",
    "- Some dogs are missing their dog stages\n",
    "- Some dogs names are None instead of NaN\n",
    "- Some dog names are not added or aren't valid like (a, one,just,actually, etc..)\n",
    "\n",
    "## DataFrame 2 (data downloaded using Twitter API)\n",
    "- This dataframe almost has no quality issues\n",
    "- Some columns aren't needed like (created at, lang, place, coordinates, source,..)\n",
    "\n",
    "## Image Predictions \n",
    "- The guesses needs investigating to extract dog breeds and merge it into the master data frame\n",
    "# Tidiness issues\n",
    "\n",
    "- Column headers are values, not variable names (dog 'stage') in DataFrame1\n",
    "- The image predictions file should be merged with DataFrame1\n",
    "- Different names for columns for the same variables in the dataframes (tweet_id in df1, id in df2)\n",
    "- Timestamp can be broken into 3 columns (hour ,day ,month) to analyze when did the account got the most interactions."
   ]
  },
  {
   "cell_type": "markdown",
   "metadata": {},
   "source": [
    "# Cleaning"
   ]
  },
  {
   "cell_type": "code",
   "execution_count": null,
   "metadata": {},
   "outputs": [],
   "source": [
    "df1_c = df1.copy()\n",
    "df2_c = df2.copy()\n",
    "image_preds_c = image_preds.copy()"
   ]
  },
  {
   "cell_type": "markdown",
   "metadata": {},
   "source": [
    "- Some of the tweets are retweets and some are replies\n",
    "#### Define\n",
    "- By using retweeted_status_id and in_reply_to_status_id columns in dataframe1, we can eliminate the retweets and eliminating quote tweets as well which are tweets retweeted with a quote in dataframe2"
   ]
  },
  {
   "cell_type": "markdown",
   "metadata": {},
   "source": [
    "#### Code"
   ]
  },
  {
   "cell_type": "code",
   "execution_count": null,
   "metadata": {},
   "outputs": [],
   "source": [
    "df1_c = df1_c[df1_c.retweeted_status_id.isnull()]\n",
    "df1_c = df1_c[df1_c.in_reply_to_status_id.isnull()]\n",
    "df2_c = df2_c[df2_c.retweeted_status.isnull()]\n",
    "df2_c = df2_c[df2_c.in_reply_to_status_id.isnull()]\n",
    "df2_c = df2_c[df2_c.quoted_status_id.isnull()]\n",
    "df2_c = df2_c[~df2_c.is_quote_status]"
   ]
  },
  {
   "cell_type": "markdown",
   "metadata": {},
   "source": [
    "#### Test"
   ]
  },
  {
   "cell_type": "code",
   "execution_count": null,
   "metadata": {},
   "outputs": [],
   "source": [
    "df1_c.info()"
   ]
  },
  {
   "cell_type": "code",
   "execution_count": null,
   "metadata": {},
   "outputs": [],
   "source": [
    "df2_c.info()"
   ]
  },
  {
   "cell_type": "code",
   "execution_count": null,
   "metadata": {},
   "outputs": [],
   "source": [
    "df1_c.drop(['retweeted_status_id','retweeted_status_user_id','retweeted_status_timestamp',\n",
    "            'in_reply_to_status_id','in_reply_to_user_id'], axis= 1, inplace=True)\n",
    "df2_c.drop(['in_reply_to_status_id','in_reply_to_status_id_str','in_reply_to_user_id',\n",
    "           'in_reply_to_user_id_str','in_reply_to_screen_name','retweeted_status',\n",
    "            'quoted_status_id','quoted_status_id_str','quoted_status_permalink','quoted_status','is_quote_status'],axis=1,inplace=True)"
   ]
  },
  {
   "cell_type": "code",
   "execution_count": null,
   "metadata": {},
   "outputs": [],
   "source": [
    "df1_c = df1_c.reset_index(drop=True)\n",
    "df2_c = df2_c.reset_index(drop=True)"
   ]
  },
  {
   "cell_type": "code",
   "execution_count": null,
   "metadata": {},
   "outputs": [],
   "source": [
    "df1_c.info()"
   ]
  },
  {
   "cell_type": "code",
   "execution_count": null,
   "metadata": {},
   "outputs": [],
   "source": [
    "df2_c.info()"
   ]
  },
  {
   "cell_type": "markdown",
   "metadata": {},
   "source": [
    "#### Define\n",
    "- some rating numerator have way high numbers\n",
    "- some denominators have numbers higher than 10\n",
    "- treated the rating numerators by extracting the rating from the text using regular expression and correcting the whole column\n",
    "- treated the rating denominator by using the assign function of pandas library"
   ]
  },
  {
   "cell_type": "markdown",
   "metadata": {},
   "source": [
    "#### Code"
   ]
  },
  {
   "cell_type": "code",
   "execution_count": null,
   "metadata": {},
   "outputs": [],
   "source": [
    "df1_c['rating_numerator'] = df1_c.text.str.extract(r\"(\\d{1,2}\\/\\d{2})\")[0].str[:2].str.replace('/','')"
   ]
  },
  {
   "cell_type": "code",
   "execution_count": null,
   "metadata": {},
   "outputs": [],
   "source": [
    "df1_c = df1_c.assign(rating_denominator = '10')"
   ]
  },
  {
   "cell_type": "markdown",
   "metadata": {},
   "source": [
    "#### Testing"
   ]
  },
  {
   "cell_type": "code",
   "execution_count": null,
   "metadata": {},
   "outputs": [],
   "source": [
    "df1_c.rating_denominator.value_counts()"
   ]
  },
  {
   "cell_type": "code",
   "execution_count": null,
   "metadata": {},
   "outputs": [],
   "source": [
    "df1_c.rating_numerator.value_counts()"
   ]
  },
  {
   "cell_type": "markdown",
   "metadata": {},
   "source": [
    "#### Define\n",
    "- After checking tweet object on developer website, Some columns are not needed in dataframe2"
   ]
  },
  {
   "cell_type": "markdown",
   "metadata": {},
   "source": [
    "#### Code"
   ]
  },
  {
   "cell_type": "code",
   "execution_count": null,
   "metadata": {},
   "outputs": [],
   "source": [
    "df2_c.info()"
   ]
  },
  {
   "cell_type": "code",
   "execution_count": null,
   "metadata": {},
   "outputs": [],
   "source": [
    "df2_c.drop(['id_str','truncated','place','lang','extended_entities','user','geo',\n",
    "            'favorited','retweeted','possibly_sensitive','possibly_sensitive_appealable','coordinates',\n",
    "            'source','contributors','entities'],axis=1,inplace=True )"
   ]
  },
  {
   "cell_type": "markdown",
   "metadata": {},
   "source": [
    "#### Define\n",
    "- Some dogs don't have dog stages"
   ]
  },
  {
   "cell_type": "markdown",
   "metadata": {},
   "source": [
    "#### Code\n",
    "- Gathering dog stages using regular expression from text"
   ]
  },
  {
   "cell_type": "code",
   "execution_count": null,
   "metadata": {},
   "outputs": [],
   "source": [
    "df2_c['puppo'] = df2_c.full_text.str.extract(r\"(puppo)\")\n",
    "df2_c['doggo'] = df2_c.full_text.str.extract(r\"(doggo)\")\n",
    "df2_c['floofer'] = df2_c.full_text.str.extract(r\"(floofer)\")\n",
    "df2_c['pupper'] = df2_c.full_text.str.extract(r\"(pupper)\")"
   ]
  },
  {
   "cell_type": "code",
   "execution_count": null,
   "metadata": {},
   "outputs": [],
   "source": [
    "df1_c.drop(['puppo','doggo','floofer','pupper'],axis=1,inplace=True)"
   ]
  },
  {
   "cell_type": "markdown",
   "metadata": {},
   "source": [
    "#### Testing"
   ]
  },
  {
   "cell_type": "code",
   "execution_count": null,
   "metadata": {},
   "outputs": [],
   "source": [
    "df2_c[['pupper','doggo','puppo','floofer']].info()"
   ]
  },
  {
   "cell_type": "markdown",
   "metadata": {},
   "source": [
    "#### Define\n",
    "- Some dogs have no names or invalid names like (a,actually,..)"
   ]
  },
  {
   "cell_type": "markdown",
   "metadata": {},
   "source": [
    "#### Code\n",
    "- checking for the different patterns the name is usually written in tweets"
   ]
  },
  {
   "cell_type": "code",
   "execution_count": null,
   "metadata": {},
   "outputs": [],
   "source": [
    "for text in df1_c[df1_c.name=='None'].text:\n",
    "    print(text)"
   ]
  },
  {
   "cell_type": "code",
   "execution_count": null,
   "metadata": {},
   "outputs": [],
   "source": [
    "for text in df1_c[df1_c.name == 'a'].text:\n",
    "    print(text)"
   ]
  },
  {
   "cell_type": "markdown",
   "metadata": {},
   "source": [
    "- Some tweets got names after \"named\", other got name after \"His name is\" and \"Her name is\" where the first letter is case sensitive\n",
    "- Extracting the names from the tweets' text using regex"
   ]
  },
  {
   "cell_type": "code",
   "execution_count": null,
   "metadata": {},
   "outputs": [],
   "source": [
    "df1_c['name_1'] = df1_c.text.str.extract(r\"(named)+(.*?\\.)\")[1].str.replace('.','')"
   ]
  },
  {
   "cell_type": "code",
   "execution_count": null,
   "metadata": {},
   "outputs": [],
   "source": [
    "df1_c['name_2'] = df1_c.text.str.extract(r\"(his|His|her|Her)+( name is)+(.*?\\.)\")[2].str.replace('.','')"
   ]
  },
  {
   "cell_type": "code",
   "execution_count": null,
   "metadata": {},
   "outputs": [],
   "source": [
    "df1_c.name_1.fillna(df1_c.name_2,inplace=True)"
   ]
  },
  {
   "cell_type": "code",
   "execution_count": null,
   "metadata": {},
   "outputs": [],
   "source": [
    "df1_c.name_1.fillna(df1_c.name,inplace=True)"
   ]
  },
  {
   "cell_type": "code",
   "execution_count": null,
   "metadata": {},
   "outputs": [],
   "source": [
    "df1_c.drop(['name','name_2'],axis=1,inplace=True)"
   ]
  },
  {
   "cell_type": "code",
   "execution_count": null,
   "metadata": {},
   "outputs": [],
   "source": [
    "df1_c.rename(columns = {'name_1':'name'},inplace=True)"
   ]
  },
  {
   "cell_type": "markdown",
   "metadata": {},
   "source": [
    "#### Testing"
   ]
  },
  {
   "cell_type": "code",
   "execution_count": null,
   "metadata": {},
   "outputs": [],
   "source": [
    "df1_c.name.value_counts()"
   ]
  },
  {
   "cell_type": "markdown",
   "metadata": {},
   "source": [
    "#### Define\n",
    "- some invalid names still exits"
   ]
  },
  {
   "cell_type": "markdown",
   "metadata": {},
   "source": [
    "#### Code"
   ]
  },
  {
   "cell_type": "code",
   "execution_count": null,
   "metadata": {},
   "outputs": [],
   "source": [
    "df1_c.loc[df1_c.name == 'a','name'] = np.nan\n",
    "df1_c.loc[df1_c.name == 'None','name'] = np.nan"
   ]
  },
  {
   "cell_type": "markdown",
   "metadata": {},
   "source": [
    "#### Testing"
   ]
  },
  {
   "cell_type": "code",
   "execution_count": null,
   "metadata": {},
   "outputs": [],
   "source": [
    "df1_c.name.value_counts()"
   ]
  },
  {
   "cell_type": "code",
   "execution_count": null,
   "metadata": {},
   "outputs": [],
   "source": [
    "df2_c.info()"
   ]
  },
  {
   "cell_type": "markdown",
   "metadata": {},
   "source": [
    "#### Define\n",
    "- more than one variable in created_at column and changing the column to timestamp for better and familiar description"
   ]
  },
  {
   "cell_type": "markdown",
   "metadata": {},
   "source": [
    "#### Code"
   ]
  },
  {
   "cell_type": "code",
   "execution_count": null,
   "metadata": {},
   "outputs": [],
   "source": [
    "df2_c['day'] = df2_c.created_at.dt.day_name()"
   ]
  },
  {
   "cell_type": "code",
   "execution_count": null,
   "metadata": {},
   "outputs": [],
   "source": [
    "df2_c['hour'] = df2_c.created_at.dt.hour"
   ]
  },
  {
   "cell_type": "code",
   "execution_count": null,
   "metadata": {},
   "outputs": [],
   "source": [
    "df2_c['month'] = df2_c.created_at.dt.month"
   ]
  },
  {
   "cell_type": "code",
   "execution_count": null,
   "metadata": {},
   "outputs": [],
   "source": [
    "df2_c['year'] = df2_c.created_at.dt.year"
   ]
  },
  {
   "cell_type": "markdown",
   "metadata": {},
   "source": [
    "#### Testing"
   ]
  },
  {
   "cell_type": "code",
   "execution_count": null,
   "metadata": {},
   "outputs": [],
   "source": [
    "df2_c.sample(20)"
   ]
  },
  {
   "cell_type": "markdown",
   "metadata": {},
   "source": [
    "- Dropping some unnecessary columns"
   ]
  },
  {
   "cell_type": "code",
   "execution_count": null,
   "metadata": {},
   "outputs": [],
   "source": [
    "df2_c.drop(['display_text_range','full_text'],inplace=True,axis=1)"
   ]
  },
  {
   "cell_type": "code",
   "execution_count": null,
   "metadata": {},
   "outputs": [],
   "source": [
    "df1_c.drop(['source','timestamp'],inplace=True,axis=1)"
   ]
  },
  {
   "cell_type": "markdown",
   "metadata": {},
   "source": [
    "- renaming some columns for merging"
   ]
  },
  {
   "cell_type": "code",
   "execution_count": null,
   "metadata": {},
   "outputs": [],
   "source": [
    "df2_c.rename(columns = {'created_at':'timestamp','id':'tweet_id'},inplace=True)"
   ]
  },
  {
   "cell_type": "code",
   "execution_count": null,
   "metadata": {},
   "outputs": [],
   "source": [
    "df1_c.info()"
   ]
  },
  {
   "cell_type": "code",
   "execution_count": null,
   "metadata": {},
   "outputs": [],
   "source": [
    "df2_c.info()"
   ]
  },
  {
   "cell_type": "markdown",
   "metadata": {},
   "source": [
    "#### Define\n",
    "- The two dataframes (given, gathered) should be merged together"
   ]
  },
  {
   "cell_type": "markdown",
   "metadata": {},
   "source": [
    "#### Code"
   ]
  },
  {
   "cell_type": "code",
   "execution_count": null,
   "metadata": {},
   "outputs": [],
   "source": [
    "master_df = pd.merge(df1_c,df2_c,how='inner',on='tweet_id')"
   ]
  },
  {
   "cell_type": "markdown",
   "metadata": {},
   "source": [
    "#### Testing"
   ]
  },
  {
   "cell_type": "code",
   "execution_count": null,
   "metadata": {},
   "outputs": [],
   "source": [
    "master_df.sample(10)"
   ]
  },
  {
   "cell_type": "markdown",
   "metadata": {},
   "source": [
    "#### Define \n",
    "- Dog stages are columns' headers instead of values"
   ]
  },
  {
   "cell_type": "markdown",
   "metadata": {},
   "source": [
    "#### Code\n",
    "- replacing NaN values with empty strings to facilitate merging columns"
   ]
  },
  {
   "cell_type": "code",
   "execution_count": null,
   "metadata": {},
   "outputs": [],
   "source": [
    "master_df.doggo.fillna(value='',inplace=True)\n",
    "master_df.puppo.fillna(value='',inplace=True)\n",
    "master_df.floofer.fillna(value='',inplace=True)\n",
    "master_df.pupper.fillna(value='',inplace=True)"
   ]
  },
  {
   "cell_type": "code",
   "execution_count": null,
   "metadata": {},
   "outputs": [],
   "source": [
    "master_df['dog_stage'] = master_df['puppo'] + master_df['doggo'] + master_df['floofer'] + master_df['pupper']"
   ]
  },
  {
   "cell_type": "code",
   "execution_count": null,
   "metadata": {},
   "outputs": [],
   "source": [
    "master_df.drop(['puppo','doggo','floofer','pupper'], inplace=True,axis=1)"
   ]
  },
  {
   "cell_type": "code",
   "execution_count": null,
   "metadata": {},
   "outputs": [],
   "source": [
    "master_df.dog_stage.value_counts()"
   ]
  },
  {
   "cell_type": "code",
   "execution_count": null,
   "metadata": {},
   "outputs": [],
   "source": [
    "master_df.loc[master_df.dog_stage == 'doggopupper','dog_stage'] = 'doggo-pupper'"
   ]
  },
  {
   "cell_type": "code",
   "execution_count": null,
   "metadata": {},
   "outputs": [],
   "source": [
    "master_df.loc[master_df.dog_stage == 'puppodoggo','dog_stage'] = 'puppo-doggo'"
   ]
  },
  {
   "cell_type": "code",
   "execution_count": null,
   "metadata": {},
   "outputs": [],
   "source": [
    "master_df.dog_stage.value_counts()"
   ]
  },
  {
   "cell_type": "code",
   "execution_count": null,
   "metadata": {},
   "outputs": [],
   "source": [
    "master_df.dog_stage.replace({'':np.nan},inplace=True)"
   ]
  },
  {
   "cell_type": "markdown",
   "metadata": {},
   "source": [
    "#### Define\n",
    "- Upon investigating some images in the image predictions file, some images are more suitable to the 2nd guess as the dog wasn't as clear or a bit far in the image so the 1st guess guessing whether it's a dog or not is false."
   ]
  },
  {
   "cell_type": "code",
   "execution_count": null,
   "metadata": {},
   "outputs": [],
   "source": [
    "image_preds_c['breed'] = image_preds_c[image_preds_c.p1_dog].p1\n",
    "image_preds_c.breed.value_counts()"
   ]
  },
  {
   "cell_type": "code",
   "execution_count": null,
   "metadata": {},
   "outputs": [],
   "source": [
    "image2 = image_preds_c[~image_preds_c.p1_dog]\n",
    "breed2 = image2[image2.p2_dog].p2\n",
    "image_preds_c.breed.fillna(breed2,inplace=True)\n",
    "image_preds_c.breed.value_counts()"
   ]
  },
  {
   "cell_type": "code",
   "execution_count": null,
   "metadata": {},
   "outputs": [],
   "source": [
    "image3 = image2[~image2.p2_dog]\n",
    "breed3 = image3[image3.p3_dog].p3\n",
    "image_preds_c.breed.fillna(breed3,inplace=True)\n",
    "image_preds_c.breed.value_counts()"
   ]
  },
  {
   "cell_type": "code",
   "execution_count": null,
   "metadata": {},
   "outputs": [],
   "source": [
    "impr = image_preds_c[['tweet_id','jpg_url','img_num','breed']]"
   ]
  },
  {
   "cell_type": "code",
   "execution_count": null,
   "metadata": {},
   "outputs": [],
   "source": [
    "total = pd.merge(master_df,impr,on='tweet_id',how='inner')"
   ]
  },
  {
   "cell_type": "markdown",
   "metadata": {},
   "source": [
    "#### Testing\n",
    "- checking the tweet url and the image url to see if they're the same image and that merging was successful"
   ]
  },
  {
   "cell_type": "code",
   "execution_count": null,
   "metadata": {},
   "outputs": [],
   "source": [
    "total.iloc[58].jpg_url"
   ]
  },
  {
   "cell_type": "code",
   "execution_count": null,
   "metadata": {},
   "outputs": [],
   "source": [
    "total.iloc[58].expanded_urls"
   ]
  },
  {
   "cell_type": "markdown",
   "metadata": {},
   "source": [
    "# Storing Cleaned Dataset"
   ]
  },
  {
   "cell_type": "code",
   "execution_count": null,
   "metadata": {},
   "outputs": [],
   "source": [
    "total.to_csv('twitter_archive_master.csv')"
   ]
  },
  {
   "cell_type": "markdown",
   "metadata": {},
   "source": [
    "# Analysis and Visualization"
   ]
  },
  {
   "cell_type": "code",
   "execution_count": null,
   "metadata": {},
   "outputs": [],
   "source": [
    "df = pd.read_csv('twitter_archive_master.csv')"
   ]
  },
  {
   "cell_type": "markdown",
   "metadata": {},
   "source": [
    "- Analyzing data of dog breed and favorite and retweet counts to get informed on which dog breed is more likable\n",
    "- It appears that Bedlington is the most likable"
   ]
  },
  {
   "cell_type": "code",
   "execution_count": null,
   "metadata": {},
   "outputs": [],
   "source": [
    "df.groupby('breed')[['favorite_count','retweet_count']].mean().sort_values(by = ['favorite_count','retweet_count'])"
   ]
  },
  {
   "cell_type": "code",
   "execution_count": null,
   "metadata": {},
   "outputs": [],
   "source": [
    "df.groupby('breed')[['favorite_count','retweet_count']].mean().sort_values(by = ['favorite_count','retweet_count']).plot(figsize=(25,10),kind='bar')"
   ]
  },
  {
   "cell_type": "markdown",
   "metadata": {},
   "source": [
    "- dog stage data and retweet and favorite counts\n",
    "- puppo-doggo is the most likable"
   ]
  },
  {
   "cell_type": "code",
   "execution_count": null,
   "metadata": {},
   "outputs": [],
   "source": [
    "df.groupby('dog_stage')[['favorite_count','retweet_count']].mean().sort_values(by=['favorite_count','retweet_count'])"
   ]
  },
  {
   "cell_type": "code",
   "execution_count": null,
   "metadata": {},
   "outputs": [],
   "source": [
    "df.groupby('dog_stage')[['favorite_count','retweet_count']].mean().sort_values(by=['favorite_count','retweet_count']).plot(kind='bar',figsize=(8,6))"
   ]
  },
  {
   "cell_type": "markdown",
   "metadata": {},
   "source": [
    "- Analyzing interaction based on day\n",
    "- Wednesday is the day with the most interaction"
   ]
  },
  {
   "cell_type": "code",
   "execution_count": null,
   "metadata": {},
   "outputs": [],
   "source": [
    "df.groupby('day')[['favorite_count','retweet_count']].mean()"
   ]
  },
  {
   "cell_type": "code",
   "execution_count": null,
   "metadata": {},
   "outputs": [],
   "source": [
    "df.groupby('day')[['favorite_count','retweet_count']].mean().plot(kind='bar',figsize=(8,6))"
   ]
  },
  {
   "cell_type": "markdown",
   "metadata": {},
   "source": [
    "- Analyzing interaction based on hour\n",
    "- 6 am is the most hour with interaction"
   ]
  },
  {
   "cell_type": "code",
   "execution_count": null,
   "metadata": {},
   "outputs": [],
   "source": [
    "df.groupby('hour')[['favorite_count','retweet_count']].mean()"
   ]
  },
  {
   "cell_type": "code",
   "execution_count": null,
   "metadata": {},
   "outputs": [],
   "source": [
    "df.groupby('hour')[['favorite_count','retweet_count']].mean().plot(kind='bar',figsize=(8,6))"
   ]
  },
  {
   "cell_type": "markdown",
   "metadata": {},
   "source": [
    "- Analyzing interaction based on month\n",
    "- June is the month with most interaction"
   ]
  },
  {
   "cell_type": "code",
   "execution_count": null,
   "metadata": {},
   "outputs": [],
   "source": [
    "df.groupby('month')[['favorite_count','retweet_count']].mean()"
   ]
  },
  {
   "cell_type": "code",
   "execution_count": null,
   "metadata": {},
   "outputs": [],
   "source": [
    "df.groupby('month')[['favorite_count','retweet_count']].mean().plot(kind='bar',figsize=(8,6))"
   ]
  },
  {
   "cell_type": "markdown",
   "metadata": {},
   "source": [
    "- Visualizing interaction of the given period based on the number of likes and retweets"
   ]
  },
  {
   "cell_type": "code",
   "execution_count": null,
   "metadata": {},
   "outputs": [],
   "source": [
    "df.groupby(['year','month'])[['retweet_count','favorite_count']].mean().plot(figsize=(8,6))"
   ]
  },
  {
   "cell_type": "markdown",
   "metadata": {},
   "source": [
    "- Analyzing the number of tweets in the given period showed us that the account was focused on tweeting attractive tweets at first to gain followers then lowered its tweets "
   ]
  },
  {
   "cell_type": "code",
   "execution_count": null,
   "metadata": {},
   "outputs": [],
   "source": [
    "total.groupby(['year','month'])[['tweet_id']].count().plot(figsize=(8,6))"
   ]
  }
 ],
 "metadata": {
  "kernelspec": {
   "display_name": "Python 3",
   "language": "python",
   "name": "python3"
  },
  "language_info": {
   "codemirror_mode": {
    "name": "ipython",
    "version": 3
   },
   "file_extension": ".py",
   "mimetype": "text/x-python",
   "name": "python",
   "nbconvert_exporter": "python",
   "pygments_lexer": "ipython3",
   "version": "3.7.7"
  }
 },
 "nbformat": 4,
 "nbformat_minor": 4
}
